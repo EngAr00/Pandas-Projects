{
 "cells": [
  {
   "cell_type": "code",
   "execution_count": 4,
   "id": "5979f945",
   "metadata": {},
   "outputs": [
    {
     "name": "stdout",
     "output_type": "stream",
     "text": [
      "[1 2 3 4 5]\n"
     ]
    },
    {
     "data": {
      "text/plain": [
       "numpy.ndarray"
      ]
     },
     "execution_count": 4,
     "metadata": {},
     "output_type": "execute_result"
    }
   ],
   "source": [
    "import numpy as np\n",
    "np_array = np.array([1,2,3,4,5])\n",
    "print(np_array)\n",
    "type(np_array)"
   ]
  },
  {
   "cell_type": "code",
   "execution_count": 12,
   "id": "4026c23a",
   "metadata": {},
   "outputs": [
    {
     "name": "stdout",
     "output_type": "stream",
     "text": [
      "[[1.  2.  3.  4. ]\n",
      " [5.  6.  7.  8.9]]\n"
     ]
    },
    {
     "data": {
      "text/plain": [
       "(2, 4)"
      ]
     },
     "execution_count": 12,
     "metadata": {},
     "output_type": "execute_result"
    }
   ],
   "source": [
    "a=np.array([(1,2,3,4),(5,6,7,8.9)],dtype=float)\n",
    "print (a)\n",
    "a.shape"
   ]
  },
  {
   "cell_type": "code",
   "execution_count": 25,
   "id": "4d523b20",
   "metadata": {},
   "outputs": [
    {
     "name": "stdout",
     "output_type": "stream",
     "text": [
      "[[0 0 0 0 0]\n",
      " [0 0 0 0 0]\n",
      " [0 0 0 0 0]\n",
      " [0 0 0 0 0]\n",
      " [0 0 0 0 0]]\n"
     ]
    }
   ],
   "source": [
    "b=np.full((5,5),0)\n",
    "print(b)"
   ]
  },
  {
   "cell_type": "code",
   "execution_count": 23,
   "id": "fb52163f",
   "metadata": {},
   "outputs": [
    {
     "name": "stdout",
     "output_type": "stream",
     "text": [
      "[[1. 0. 0. 0. 0.]\n",
      " [0. 1. 0. 0. 0.]\n",
      " [0. 0. 1. 0. 0.]\n",
      " [0. 0. 0. 1. 0.]\n",
      " [0. 0. 0. 0. 1.]]\n"
     ]
    }
   ],
   "source": [
    "# identity matrix\n",
    "x=np.eye(5)\n",
    "print (x)"
   ]
  },
  {
   "cell_type": "code",
   "execution_count": 30,
   "id": "838298b3",
   "metadata": {},
   "outputs": [
    {
     "name": "stdout",
     "output_type": "stream",
     "text": [
      "[[0.14112464 0.55699626 0.32120136 0.01356276 0.61030734]\n",
      " [0.0020734  0.08348405 0.2525089  0.64673069 0.07835379]\n",
      " [0.07284216 0.24419991 0.45857081 0.17297258 0.9671526 ]\n",
      " [0.79940785 0.48861757 0.90340269 0.30794967 0.6168195 ]]\n"
     ]
    }
   ],
   "source": [
    "#random numbers\n",
    "y=np.random.random((4,5))\n",
    "print(y)"
   ]
  },
  {
   "cell_type": "code",
   "execution_count": 39,
   "id": "b3f24372",
   "metadata": {},
   "outputs": [
    {
     "name": "stdout",
     "output_type": "stream",
     "text": [
      "[[47 54 95 61 24]\n",
      " [20 77 22 60 92]\n",
      " [26 17 17 41 91]\n",
      " [75 19 84 26 68]]\n"
     ]
    }
   ],
   "source": [
    "y=np.random.randint(1,100,(4,5))\n",
    "print(y)"
   ]
  },
  {
   "cell_type": "code",
   "execution_count": 47,
   "id": "d2693804",
   "metadata": {},
   "outputs": [
    {
     "name": "stdout",
     "output_type": "stream",
     "text": [
      "[10.         16.66666667 23.33333333 30.         36.66666667 43.33333333\n",
      " 50.        ]\n"
     ]
    }
   ],
   "source": [
    "#Evenly spaced\n",
    "e = np.linspace(10,50,7)\n",
    "print(e)"
   ]
  },
  {
   "cell_type": "code",
   "execution_count": 46,
   "id": "9ca88d57",
   "metadata": {},
   "outputs": [
    {
     "name": "stdout",
     "output_type": "stream",
     "text": [
      "[10 20 30 40]\n"
     ]
    }
   ],
   "source": [
    "e = np.arange(10,50,10)\n",
    "print(e)"
   ]
  },
  {
   "cell_type": "code",
   "execution_count": 49,
   "id": "f78d2c93",
   "metadata": {},
   "outputs": [
    {
     "name": "stdout",
     "output_type": "stream",
     "text": [
      "[10 20 30 40 50]\n"
     ]
    },
    {
     "data": {
      "text/plain": [
       "numpy.ndarray"
      ]
     },
     "execution_count": 49,
     "metadata": {},
     "output_type": "execute_result"
    }
   ],
   "source": [
    "#convert list to numpy array\n",
    "list2=[10,20,30,40,50]\n",
    "\n",
    "np_array=np.asarray(list2)\n",
    "print(np_array)\n",
    "type(np_array)"
   ]
  },
  {
   "cell_type": "code",
   "execution_count": 51,
   "id": "cfb97315",
   "metadata": {},
   "outputs": [
    {
     "name": "stdout",
     "output_type": "stream",
     "text": [
      "[[77 36 42 44 44]\n",
      " [38 41 23 47 21]\n",
      " [21 11 97 40 79]\n",
      " [69 66 16 93 72]\n",
      " [93 92 22 77 46]]\n"
     ]
    }
   ],
   "source": [
    "#Analyzing numpy\n",
    "m=np.random.randint(10,100,(5,5))\n",
    "print(m)"
   ]
  },
  {
   "cell_type": "code",
   "execution_count": 53,
   "id": "463dff93",
   "metadata": {},
   "outputs": [
    {
     "name": "stdout",
     "output_type": "stream",
     "text": [
      "(5, 5)\n"
     ]
    }
   ],
   "source": [
    "#dimension \n",
    "print(m.shape)"
   ]
  },
  {
   "cell_type": "code",
   "execution_count": 54,
   "id": "2ad8b572",
   "metadata": {},
   "outputs": [
    {
     "name": "stdout",
     "output_type": "stream",
     "text": [
      "25\n"
     ]
    }
   ],
   "source": [
    "#number of values \n",
    "print(m.size)"
   ]
  },
  {
   "cell_type": "code",
   "execution_count": 55,
   "id": "9bc19fe3",
   "metadata": {},
   "outputs": [
    {
     "name": "stdout",
     "output_type": "stream",
     "text": [
      "int32\n"
     ]
    }
   ],
   "source": [
    "#datatype\n",
    "print(m.dtype)"
   ]
  },
  {
   "cell_type": "code",
   "execution_count": 56,
   "id": "89580a39",
   "metadata": {},
   "outputs": [
    {
     "name": "stdout",
     "output_type": "stream",
     "text": [
      "[[2 3 1]\n",
      " [4 9 2]\n",
      " [2 6 6]]\n",
      "[[12 17 13]\n",
      " [14 15 14]\n",
      " [10 10 15]]\n"
     ]
    }
   ],
   "source": [
    "#Mathematical operations\n",
    "a=np.random.randint(0,10,(3,3))\n",
    "b=np.random.randint(10,20,(3,3))\n",
    "print(a)\n",
    "print(b)\n"
   ]
  },
  {
   "cell_type": "code",
   "execution_count": 58,
   "id": "0d8f0e70",
   "metadata": {},
   "outputs": [
    {
     "name": "stdout",
     "output_type": "stream",
     "text": [
      "[[14 20 14]\n",
      " [18 24 16]\n",
      " [12 16 21]]\n",
      "[[-10 -14 -12]\n",
      " [-10  -6 -12]\n",
      " [ -8  -4  -9]]\n",
      "[[ 24  51  13]\n",
      " [ 56 135  28]\n",
      " [ 20  60  90]]\n",
      "[[0.16666667 0.17647059 0.07692308]\n",
      " [0.28571429 0.6        0.14285714]\n",
      " [0.2        0.6        0.4       ]]\n"
     ]
    }
   ],
   "source": [
    "print(a+b)\n",
    "print(a-b)\n",
    "print(a*b)\n",
    "print(a/b)\n",
    "\n"
   ]
  },
  {
   "cell_type": "code",
   "execution_count": 59,
   "id": "ea7910a0",
   "metadata": {},
   "outputs": [
    {
     "name": "stdout",
     "output_type": "stream",
     "text": [
      "[[14 20 14]\n",
      " [18 24 16]\n",
      " [12 16 21]]\n",
      "[[-10 -14 -12]\n",
      " [-10  -6 -12]\n",
      " [ -8  -4  -9]]\n",
      "[[ 24  51  13]\n",
      " [ 56 135  28]\n",
      " [ 20  60  90]]\n",
      "[[0.16666667 0.17647059 0.07692308]\n",
      " [0.28571429 0.6        0.14285714]\n",
      " [0.2        0.6        0.4       ]]\n"
     ]
    }
   ],
   "source": [
    "#Another way of doing\n",
    "print(np.add(a,b))\n",
    "print(np.subtract(a,b))\n",
    "print(np.multiply(a,b))\n",
    "print(np.divide(a,b))"
   ]
  },
  {
   "cell_type": "code",
   "execution_count": 61,
   "id": "4b81d0c7",
   "metadata": {},
   "outputs": [
    {
     "name": "stdout",
     "output_type": "stream",
     "text": [
      "[[8 7 7]\n",
      " [2 3 2]]\n",
      "(2, 3)\n"
     ]
    }
   ],
   "source": [
    "#Array manipulation\n",
    "#Transpose\n",
    "array=np.random.randint(0,10,(2,3))\n",
    "print(array)\n",
    "print(array.shape)"
   ]
  },
  {
   "cell_type": "code",
   "execution_count": 62,
   "id": "5571d62d",
   "metadata": {},
   "outputs": [
    {
     "name": "stdout",
     "output_type": "stream",
     "text": [
      "[[8 2]\n",
      " [7 3]\n",
      " [7 2]]\n",
      "(3, 2)\n"
     ]
    }
   ],
   "source": [
    "#Finding the transpose\n",
    "trans=np.transpose(array)\n",
    "print(trans)\n",
    "print(trans.shape)"
   ]
  },
  {
   "cell_type": "code",
   "execution_count": 63,
   "id": "bf0e3290",
   "metadata": {},
   "outputs": [
    {
     "name": "stdout",
     "output_type": "stream",
     "text": [
      "[[3 3 6 7]\n",
      " [3 7 0 2]\n",
      " [2 9 6 2]]\n",
      "(3, 4)\n"
     ]
    }
   ],
   "source": [
    "#Reshaping array\n",
    "r=np.random.randint(0,10,(3,4))\n",
    "print(r)\n",
    "print(r.shape)"
   ]
  },
  {
   "cell_type": "code",
   "execution_count": 66,
   "id": "e4e4f679",
   "metadata": {},
   "outputs": [
    {
     "name": "stdout",
     "output_type": "stream",
     "text": [
      "[[3 3 6]\n",
      " [7 3 7]\n",
      " [0 2 2]\n",
      " [9 6 2]]\n",
      "(4, 3)\n"
     ]
    }
   ],
   "source": [
    "re=r.reshape(4,3)\n",
    "print(re)\n",
    "print(re.shape)"
   ]
  },
  {
   "cell_type": "code",
   "execution_count": null,
   "id": "76912f9d",
   "metadata": {},
   "outputs": [],
   "source": []
  }
 ],
 "metadata": {
  "kernelspec": {
   "display_name": "Python 3 (ipykernel)",
   "language": "python",
   "name": "python3"
  },
  "language_info": {
   "codemirror_mode": {
    "name": "ipython",
    "version": 3
   },
   "file_extension": ".py",
   "mimetype": "text/x-python",
   "name": "python",
   "nbconvert_exporter": "python",
   "pygments_lexer": "ipython3",
   "version": "3.11.3"
  }
 },
 "nbformat": 4,
 "nbformat_minor": 5
}
